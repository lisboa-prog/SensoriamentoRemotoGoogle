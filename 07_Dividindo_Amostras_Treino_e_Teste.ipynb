{
 "cells": [
  {
   "cell_type": "markdown",
   "metadata": {},
   "source": [
    "# Separação de Amostras entre Treino/Teste/Validação\n",
    "\n",
    "__Autoria:__ Sabrina Paes Leme P. Correa (paeslemesa@gmail.com) <br>\n",
    "__Criação:__ 24/04/2024 <br>\n",
    "__Modificação:__ 24/04/2024\n",
    "\n",
    "__Descrição:__ Esse tutorial tem a intenção de usar alguns modelos de validação de aprendizagem de máquina para que estudemos melhor o comportamento do nosso classificador.\n",
    "\n",
    "__Referências:__ \n",
    "* https://www.sas.upenn.edu/~fdiebold/NoHesitations/BookAdvanced.pdf\n",
    "* https://scikit-learn.org/stable/modules/generated/sklearn.neighbors.KNeighborsClassifier.html"
   ]
  },
  {
   "cell_type": "markdown",
   "metadata": {},
   "source": [
    "## 1. Importando bibliotecas"
   ]
  },
  {
   "cell_type": "code",
   "execution_count": 20,
   "metadata": {},
   "outputs": [],
   "source": [
    "from pathlib import Path # biblioteca para manipulação de arquivos\n",
    "\n",
    "import pandas as pd # biblioteca para manipulação de dados\n",
    "\n",
    "import numpy as np # biblioteca para manipulação de vetores e matrizes\n",
    "\n",
    "from sklearn.model_selection import train_test_split # função para dividir o dataset em treino e teste\n",
    "\n",
    "from sklearn.neighbors import KNeighborsClassifier # modelo KNN para classificações supervisionadas"
   ]
  },
  {
   "cell_type": "markdown",
   "metadata": {},
   "source": [
    "## 2. Abrindo o arquivo de amostras\n",
    "\n",
    "Os arquivos usados para este exemplo são as amostras criadas para uma área da Amazônia com o sensor MSI do Sentinel-2. Podem ser acessados através deste link: https://github.com/paeslemesa/tutoriaisPython/blob/main/amostras_aoi.csv\n",
    "\n",
    "Como já falamos no tutorial 5 e 6, estamos trabalhando com uma classificação e fizemos amostras criando 4 classes**:\n",
    "* 1 - Floresta\n",
    "* 2 - Agua\n",
    "* 3 - Pastagem\n",
    "* 4 - Solo Exposto\n",
    "\n",
    "** Recomendo procurarem masi informações sobre as melhroes classes para cada área de estudo antes de selecionarem elas. Existem vários estudos para isso."
   ]
  },
  {
   "cell_type": "code",
   "execution_count": 2,
   "metadata": {},
   "outputs": [],
   "source": [
    "# Eu gosto de determinar o diretorio em que estou trabalhando separadamente, porque consigo reutilizar o código em outros projetos com maior facilidade.\n",
    "# Além disso, é mais fácil de mudar o diretório de trabalho, caso seja necessário.\n",
    "# Além de manter o código mais organizado.\n",
    "\n",
    "diretorio = Path(\"./\")\n",
    "\n",
    "arquivo = Path(diretorio, \"amostras_aoi.csv\") "
   ]
  },
  {
   "cell_type": "code",
   "execution_count": 3,
   "metadata": {},
   "outputs": [
    {
     "data": {
      "text/html": [
       "<div>\n",
       "<style scoped>\n",
       "    .dataframe tbody tr th:only-of-type {\n",
       "        vertical-align: middle;\n",
       "    }\n",
       "\n",
       "    .dataframe tbody tr th {\n",
       "        vertical-align: top;\n",
       "    }\n",
       "\n",
       "    .dataframe thead th {\n",
       "        text-align: right;\n",
       "    }\n",
       "</style>\n",
       "<table border=\"1\" class=\"dataframe\">\n",
       "  <thead>\n",
       "    <tr style=\"text-align: right;\">\n",
       "      <th></th>\n",
       "      <th>classe</th>\n",
       "      <th>azul</th>\n",
       "      <th>verde</th>\n",
       "      <th>vermelho</th>\n",
       "      <th>nir</th>\n",
       "      <th>ndvi</th>\n",
       "    </tr>\n",
       "  </thead>\n",
       "  <tbody>\n",
       "    <tr>\n",
       "      <th>0</th>\n",
       "      <td>1</td>\n",
       "      <td>0.1323</td>\n",
       "      <td>0.1467</td>\n",
       "      <td>0.1256</td>\n",
       "      <td>0.4272</td>\n",
       "      <td>0.545586</td>\n",
       "    </tr>\n",
       "    <tr>\n",
       "      <th>1</th>\n",
       "      <td>1</td>\n",
       "      <td>0.1291</td>\n",
       "      <td>0.1460</td>\n",
       "      <td>0.1251</td>\n",
       "      <td>0.4213</td>\n",
       "      <td>0.542094</td>\n",
       "    </tr>\n",
       "    <tr>\n",
       "      <th>2</th>\n",
       "      <td>1</td>\n",
       "      <td>0.1262</td>\n",
       "      <td>0.1460</td>\n",
       "      <td>0.1221</td>\n",
       "      <td>0.3980</td>\n",
       "      <td>0.530475</td>\n",
       "    </tr>\n",
       "    <tr>\n",
       "      <th>3</th>\n",
       "      <td>1</td>\n",
       "      <td>0.1255</td>\n",
       "      <td>0.1438</td>\n",
       "      <td>0.1215</td>\n",
       "      <td>0.4216</td>\n",
       "      <td>0.552569</td>\n",
       "    </tr>\n",
       "    <tr>\n",
       "      <th>4</th>\n",
       "      <td>1</td>\n",
       "      <td>0.1281</td>\n",
       "      <td>0.1429</td>\n",
       "      <td>0.1236</td>\n",
       "      <td>0.3646</td>\n",
       "      <td>0.493650</td>\n",
       "    </tr>\n",
       "  </tbody>\n",
       "</table>\n",
       "</div>"
      ],
      "text/plain": [
       "   classe    azul   verde  vermelho     nir      ndvi\n",
       "0       1  0.1323  0.1467    0.1256  0.4272  0.545586\n",
       "1       1  0.1291  0.1460    0.1251  0.4213  0.542094\n",
       "2       1  0.1262  0.1460    0.1221  0.3980  0.530475\n",
       "3       1  0.1255  0.1438    0.1215  0.4216  0.552569\n",
       "4       1  0.1281  0.1429    0.1236  0.3646  0.493650"
      ]
     },
     "execution_count": 3,
     "metadata": {},
     "output_type": "execute_result"
    }
   ],
   "source": [
    "# Abrindo o arquiv CSV com a biblioteca pandas\n",
    "df = pd.read_csv(arquivo)\n",
    "\n",
    "df.head() # Mostrando as primeiras linhas do dataframe"
   ]
  },
  {
   "cell_type": "markdown",
   "metadata": {},
   "source": [
    "Da mesma forma que já foi feito, eu vou selecionar aqui o mesmo número de amostras para cada classe para não enviesar meu classificador. Existem várias formas de pensarmos isso, essa solução é apenas uma sugestão, tá bem?\n",
    "\n",
    "A gente consegue perceber que a classe Pastagem é a menos frequente com 26 622 amostras, então vamso selecionar aleatoriamente esse número de amostras de todas as classes.\n"
   ]
  },
  {
   "cell_type": "code",
   "execution_count": 4,
   "metadata": {},
   "outputs": [
    {
     "data": {
      "text/html": [
       "<div>\n",
       "<style scoped>\n",
       "    .dataframe tbody tr th:only-of-type {\n",
       "        vertical-align: middle;\n",
       "    }\n",
       "\n",
       "    .dataframe tbody tr th {\n",
       "        vertical-align: top;\n",
       "    }\n",
       "\n",
       "    .dataframe thead th {\n",
       "        text-align: right;\n",
       "    }\n",
       "</style>\n",
       "<table border=\"1\" class=\"dataframe\">\n",
       "  <thead>\n",
       "    <tr style=\"text-align: right;\">\n",
       "      <th></th>\n",
       "      <th>azul</th>\n",
       "      <th>verde</th>\n",
       "      <th>vermelho</th>\n",
       "      <th>nir</th>\n",
       "      <th>ndvi</th>\n",
       "    </tr>\n",
       "    <tr>\n",
       "      <th>classe</th>\n",
       "      <th></th>\n",
       "      <th></th>\n",
       "      <th></th>\n",
       "      <th></th>\n",
       "      <th></th>\n",
       "    </tr>\n",
       "  </thead>\n",
       "  <tbody>\n",
       "    <tr>\n",
       "      <th>1</th>\n",
       "      <td>48619</td>\n",
       "      <td>48619</td>\n",
       "      <td>48619</td>\n",
       "      <td>48619</td>\n",
       "      <td>48619</td>\n",
       "    </tr>\n",
       "    <tr>\n",
       "      <th>2</th>\n",
       "      <td>92864</td>\n",
       "      <td>92864</td>\n",
       "      <td>92864</td>\n",
       "      <td>92864</td>\n",
       "      <td>92864</td>\n",
       "    </tr>\n",
       "    <tr>\n",
       "      <th>3</th>\n",
       "      <td>26622</td>\n",
       "      <td>26622</td>\n",
       "      <td>26622</td>\n",
       "      <td>26622</td>\n",
       "      <td>26622</td>\n",
       "    </tr>\n",
       "    <tr>\n",
       "      <th>4</th>\n",
       "      <td>35330</td>\n",
       "      <td>35330</td>\n",
       "      <td>35330</td>\n",
       "      <td>35330</td>\n",
       "      <td>35330</td>\n",
       "    </tr>\n",
       "  </tbody>\n",
       "</table>\n",
       "</div>"
      ],
      "text/plain": [
       "         azul  verde  vermelho    nir   ndvi\n",
       "classe                                      \n",
       "1       48619  48619     48619  48619  48619\n",
       "2       92864  92864     92864  92864  92864\n",
       "3       26622  26622     26622  26622  26622\n",
       "4       35330  35330     35330  35330  35330"
      ]
     },
     "execution_count": 4,
     "metadata": {},
     "output_type": "execute_result"
    }
   ],
   "source": [
    "df.groupby(by = \"classe\").count()"
   ]
  },
  {
   "cell_type": "code",
   "execution_count": 5,
   "metadata": {},
   "outputs": [
    {
     "data": {
      "text/html": [
       "<div>\n",
       "<style scoped>\n",
       "    .dataframe tbody tr th:only-of-type {\n",
       "        vertical-align: middle;\n",
       "    }\n",
       "\n",
       "    .dataframe tbody tr th {\n",
       "        vertical-align: top;\n",
       "    }\n",
       "\n",
       "    .dataframe thead th {\n",
       "        text-align: right;\n",
       "    }\n",
       "</style>\n",
       "<table border=\"1\" class=\"dataframe\">\n",
       "  <thead>\n",
       "    <tr style=\"text-align: right;\">\n",
       "      <th></th>\n",
       "      <th>azul</th>\n",
       "      <th>verde</th>\n",
       "      <th>vermelho</th>\n",
       "      <th>nir</th>\n",
       "      <th>ndvi</th>\n",
       "    </tr>\n",
       "    <tr>\n",
       "      <th>classe</th>\n",
       "      <th></th>\n",
       "      <th></th>\n",
       "      <th></th>\n",
       "      <th></th>\n",
       "      <th></th>\n",
       "    </tr>\n",
       "  </thead>\n",
       "  <tbody>\n",
       "    <tr>\n",
       "      <th>1</th>\n",
       "      <td>26622</td>\n",
       "      <td>26622</td>\n",
       "      <td>26622</td>\n",
       "      <td>26622</td>\n",
       "      <td>26622</td>\n",
       "    </tr>\n",
       "    <tr>\n",
       "      <th>2</th>\n",
       "      <td>26622</td>\n",
       "      <td>26622</td>\n",
       "      <td>26622</td>\n",
       "      <td>26622</td>\n",
       "      <td>26622</td>\n",
       "    </tr>\n",
       "    <tr>\n",
       "      <th>3</th>\n",
       "      <td>26622</td>\n",
       "      <td>26622</td>\n",
       "      <td>26622</td>\n",
       "      <td>26622</td>\n",
       "      <td>26622</td>\n",
       "    </tr>\n",
       "    <tr>\n",
       "      <th>4</th>\n",
       "      <td>26622</td>\n",
       "      <td>26622</td>\n",
       "      <td>26622</td>\n",
       "      <td>26622</td>\n",
       "      <td>26622</td>\n",
       "    </tr>\n",
       "  </tbody>\n",
       "</table>\n",
       "</div>"
      ],
      "text/plain": [
       "         azul  verde  vermelho    nir   ndvi\n",
       "classe                                      \n",
       "1       26622  26622     26622  26622  26622\n",
       "2       26622  26622     26622  26622  26622\n",
       "3       26622  26622     26622  26622  26622\n",
       "4       26622  26622     26622  26622  26622"
      ]
     },
     "execution_count": 5,
     "metadata": {},
     "output_type": "execute_result"
    }
   ],
   "source": [
    "amostras = df.groupby(by='classe').sample( n = 26622, random_state= 42)\n",
    "amostras.groupby(by = \"classe\").count()"
   ]
  },
  {
   "cell_type": "markdown",
   "metadata": {},
   "source": [
    "## 3. Particionando as amostras\n",
    "\n",
    "Nesta parte, vamos usar algumas formas de particionar as amostras usando a biblioteca <code>Sklearn</code>.\n",
    "Para estudar essas formas, recomendo procurar livros de __Reconhecimento de Padrões__ e __Aprendizagem de Máquina__\n",
    "\n",
    "Um livro que usei e uso bastante é do Hasting et al. (2009) -> https://www.sas.upenn.edu/~fdiebold/NoHesitations/BookAdvanced.pdf\n"
   ]
  },
  {
   "cell_type": "markdown",
   "metadata": {},
   "source": [
    "### 3.1. Forma tradicional (hold-out)\n",
    "\n",
    "O hold-out é a forma que tradicionalmente separamos as amostras em aproximadamente __75%__ para treinamento e __25%__ para validação.\n",
    "\n",
    "Há modelos em que devemos gerar dados de teste também, como o Random Forest e modelos de Deep Learning, eu costumo usar a proporção 70%/15%/15%. Se o dataset for muito grande, até chego a usar 80%/10%/10%.\n",
    "\n",
    "De qualquer forma, o mais importante é que a grande maioria dos dados esteja separada para o treinamento.\n",
    "\n",
    "Outro ponto é que quando fazemos essa divisão, devemos garantir que ela seja verdade para todas as nossas classes, para isso, existe uma função so Sklearn própria para isso.\n",
    "\n",
    "!! Outro ponto é que em classificação, nós chamamos de __X__ os dados das feições e __y__ o resultado (no caso, as classes)"
   ]
  },
  {
   "cell_type": "code",
   "execution_count": 7,
   "metadata": {},
   "outputs": [],
   "source": [
    "# Agora, vamos dividir nossos dados em X e y, aonde X são as features e y é a classe que queremos prever\n",
    "X = amostras.drop(columns = [\"classe\"]) # Retirando a coluna classe do dataframe\n",
    "y = amostras[\"classe\"] # Pegando apenas a coluna classe, que é o nosso y"
   ]
  },
  {
   "cell_type": "code",
   "execution_count": 9,
   "metadata": {},
   "outputs": [],
   "source": [
    "percentagem_treino = 0.25\n",
    "\n",
    "X_train, X_test, y_train, y_test = train_test_split(X, y, train_size = percentagem_treino, random_state = 42)"
   ]
  },
  {
   "cell_type": "markdown",
   "metadata": {},
   "source": [
    "Prontinho! Agora usaremos nossos dados da seguinte forma:\n",
    "\n",
    "* <code>X_train</code> e <code>y_train</code> -> usaremos apenas para o treinamento do modelo (<code>model.fit</code>)\n",
    "* <code>X_test</code> -> usaremos para predizer nosso modelo resultante para teste que vai gerar o <code>y_predict</code> (<code>model.predict</code>)\n",
    "* <code>y_test</code> -> usaremos para comparar as informações preditas (y_predict) com as verdadeiras (y_test) para calcularmos a acurácia do modelo."
   ]
  },
  {
   "cell_type": "markdown",
   "metadata": {},
   "source": [
    "#### Exemplo de Utilização\n",
    "Como o foco deste tutorial é a separação das amostras, vou usar um classificadfor bem simples agora, o <code>KNN</code>, que é o vizinho mais próximo.\n",
    "\n",
    "Mais informações, acesse: https://scikit-learn.org/stable/modules/generated/sklearn.neighbors.KNeighborsClassifier.html"
   ]
  },
  {
   "cell_type": "code",
   "execution_count": 19,
   "metadata": {},
   "outputs": [
    {
     "name": "stdout",
     "output_type": "stream",
     "text": [
      "A acurácia do modelo foi de 0.9696\n"
     ]
    }
   ],
   "source": [
    "n_vizinhos = 5 # geralmente escolhemos um número impar\n",
    "\n",
    "model = KNeighborsClassifier(n_neighbors= n_vizinhos) # Instanciando o modelo\n",
    "model.fit(X_train, y_train) # Treinando o modelo\n",
    "\n",
    "y_pred = model.predict(X_test) # Fazendo a predição\n",
    "\n",
    "acuracia = model.score(X_test, y_test) # Calculando a acurácia\n",
    "\n",
    "print(f\"A acurácia do modelo foi de {acuracia:.4f}\")"
   ]
  },
  {
   "cell_type": "markdown",
   "metadata": {},
   "source": [
    "#### 3.1.1. Adicionando divisão para validação\n",
    "\n",
    "Para dividir com treino/teste/validação, não fazemos isso de uma forma direta, precisamos calcular a proporção de treino e validação.\n",
    "\n",
    "Se utilizarmos o caso da proporção 75/15/15, primeiro utilizamos a divisão normaç, definindo a percentagem_teste em __15%__. <br>\n",
    "Depois precisamos calcular $\\frac{0.15}{0.75}$ para determinar o valor que usaremos na segunda divisão."
   ]
  },
  {
   "cell_type": "code",
   "execution_count": 13,
   "metadata": {},
   "outputs": [],
   "source": [
    "percentagem_treino = 0.75\n",
    "percentagem_teste = 0.15\n",
    "percentagem_validacao = percentagem_teste / percentagem_treino\n",
    "\n",
    "X_train, X_test, y_train, y_test = train_test_split(X, y, test_size= percentagem_teste, random_state=42)\n",
    "\n",
    "X_train, X_val, y_train, y_val = train_test_split(X_train, y_train, test_size=percentagem_validacao, random_state=42) # 0.2 x 0.75 = 0.15"
   ]
  },
  {
   "cell_type": "markdown",
   "metadata": {},
   "source": [
    "### 3.2. Simulação de Monte Carlo\n",
    "\n",
    "A simulação de Monte Carlo vai  repetir o método Hol-out quantas vezes quisermos, variando em como estamos dividindo as amostras. \n",
    "\n",
    "Para rodar a Monte Carlo, basta que usemos um loop FOR variando o <code>random_state</code> (o estado de aleatoriedade).\n",
    "\n",
    "Para o caso abaixo, definimos repetir o modelo 100 vezes.\n",
    "\n",
    "O objetivo maior maior da Monte Carlo é ver como ela reage com a variação das amostras de referência, então salvaremos a acurácia numa lista e calcularemos as estatísticas."
   ]
  },
  {
   "cell_type": "code",
   "execution_count": 23,
   "metadata": {},
   "outputs": [
    {
     "name": "stdout",
     "output_type": "stream",
     "text": [
      "A acurácia média do modelo foi de 0.9677\n",
      "A acurácia máxima do modelo foi de 0.9694\n",
      "A acurácia mínima do modelo foi de 0.9662\n",
      "O desvio padrão da acurácia do modelo foi de 0.0006\n"
     ]
    }
   ],
   "source": [
    "n_iteracoes = 100\n",
    "n_vizinhos = 5\n",
    "\n",
    "accuracia = [] # Lista para armazenar as acurácias das classificações\n",
    "\n",
    "model = KNeighborsClassifier(n_neighbors= n_vizinhos)\n",
    "\n",
    "for i in range(n_iteracoes): # Loop para fazer a classificação várias vezes\n",
    "    X_train, X_test, y_train, y_test = train_test_split(X, y, test_size= percentagem_treino, random_state=i) # Dividindo os dados em treino e teste\n",
    "    model.fit(X_train, y_train) # Treinando o modelo\n",
    "    accuracia.append(model.score(X_test, y_test)) # Calculando a acurácia e armazenando na lista\n",
    "\n",
    "print(f\"A acurácia média do modelo foi de {sum(accuracia)/len(accuracia):.4f}\")\n",
    "print(f\"A acurácia máxima do modelo foi de {max(accuracia):.4f}\")\n",
    "print(f\"A acurácia mínima do modelo foi de {min(accuracia):.4f}\")\n",
    "print(f\"O desvio padrão da acurácia do modelo foi de {np.std(accuracia):.4f}\")\n",
    "    "
   ]
  },
  {
   "cell_type": "markdown",
   "metadata": {},
   "source": [
    "### 3.3. Valização Cruzada\n",
    "\n",
    "A validação cruzada vai separaros dados em $n$ iterações. Existem vários submétodos dentro da validação cruzada (cross-validation), eles são bem mostrados aqui: https://scikit-learn.org/stable/modules/cross_validation.html\n",
    "\n",
    "Para um exemplo com simples validação cruzada, usaremos:"
   ]
  },
  {
   "cell_type": "code",
   "execution_count": 30,
   "metadata": {},
   "outputs": [],
   "source": [
    "from sklearn.model_selection import cross_val_score # Função para fazer a validação cruzada"
   ]
  },
  {
   "cell_type": "code",
   "execution_count": 31,
   "metadata": {},
   "outputs": [
    {
     "data": {
      "text/plain": [
       "array([0.97145272, 0.9694807 , 0.97009109, 0.96839931, 0.97055923])"
      ]
     },
     "execution_count": 31,
     "metadata": {},
     "output_type": "execute_result"
    }
   ],
   "source": [
    "acuracias = cross_val_score(model, X, y, cv=5)\n",
    "\n",
    "acuracias"
   ]
  },
  {
   "cell_type": "markdown",
   "metadata": {},
   "source": [
    "#### 3.3.1. Embaralhar e separar - Estratificado (Stratified Shuffle $ Split)\n",
    "\n",
    "Este modelo é um iterador que vai gerar uma quantidade aleatória de amostras de treino/teste. Diferente das outras técnicas, no Sklearn, esse iterador vai nos dar os índices mantendo proporções das classes que estamos usando. E apartir dos índices, conseguimos trabalhar na classificação"
   ]
  },
  {
   "cell_type": "code",
   "execution_count": 32,
   "metadata": {},
   "outputs": [],
   "source": [
    "from sklearn.model_selection import StratifiedShuffleSplit"
   ]
  },
  {
   "cell_type": "code",
   "execution_count": 46,
   "metadata": {},
   "outputs": [
    {
     "name": "stdout",
     "output_type": "stream",
     "text": [
      "Separação 0:\n",
      "Acurácia do modelo: 0.9704\n",
      "Separação 1:\n",
      "Acurácia do modelo: 0.9710\n",
      "Separação 2:\n",
      "Acurácia do modelo: 0.9692\n",
      "Separação 3:\n",
      "Acurácia do modelo: 0.9710\n",
      "Separação 4:\n",
      "Acurácia do modelo: 0.9710\n",
      "\n",
      "\n",
      "A acurácia média do modelo foi de 0.0485\n",
      "A acurácia máxima do modelo foi de 0.9710\n",
      "A acurácia mínima do modelo foi de 0.9692\n",
      "O desvio padrão da acurácia do modelo foi de 0.0007\n"
     ]
    }
   ],
   "source": [
    "n_separacoes = 5\n",
    "percentagem_treino = 0.75\n",
    "\n",
    "acuracias = []\n",
    "\n",
    "iterador = StratifiedShuffleSplit(n_splits= n_separacoes, train_size = percentagem_treino, random_state=42)\n",
    "\n",
    "for i, (train_index, test_index) in enumerate(iterador.split(X, y)):\n",
    "    print(f\"Separação {i}:\")\n",
    "\n",
    "    # Aqui vamos selecionar nossas amostras baseadas nos indices (index) que o iterador nos forneceu\n",
    "    X_train, X_test = X.iloc[train_index], X.iloc[test_index]\n",
    "    y_train, y_test = y.iloc[train_index], y.iloc[test_index]\n",
    "    model.fit(X_train, y_train)\n",
    "\n",
    "    acuracias.append(model.score(X_test, y_test))\n",
    "    print(f\"Acurácia do modelo: {model.score(X_test, y_test):.4f}\")\n",
    "\n",
    "print(f\"\\n\\nA acurácia média do modelo foi de {sum(acuracias)/len(accuracia):.4f}\")\n",
    "print(f\"A acurácia máxima do modelo foi de {max(acuracias):.4f}\")\n",
    "print(f\"A acurácia mínima do modelo foi de {min(acuracias):.4f}\")\n",
    "print(f\"O desvio padrão da acurácia do modelo foi de {np.std(acuracias):.4f}\")"
   ]
  },
  {
   "cell_type": "code",
   "execution_count": null,
   "metadata": {},
   "outputs": [],
   "source": [
    "\n"
   ]
  }
 ],
 "metadata": {
  "kernelspec": {
   "display_name": "yolo4D",
   "language": "python",
   "name": "python3"
  },
  "language_info": {
   "codemirror_mode": {
    "name": "ipython",
    "version": 3
   },
   "file_extension": ".py",
   "mimetype": "text/x-python",
   "name": "python",
   "nbconvert_exporter": "python",
   "pygments_lexer": "ipython3",
   "version": "3.10.13"
  }
 },
 "nbformat": 4,
 "nbformat_minor": 2
}
