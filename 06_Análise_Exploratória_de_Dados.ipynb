{
 "cells": [
  {
   "cell_type": "markdown",
   "metadata": {},
   "source": [
    "# Análise Exploratória dos Dados (_Exploratory Data Analysis_ - EDA)\n",
    "\n",
    "__Autoria:__ Sabrina Paes Leme P. Correa (paeslemesa@gmail.com) <br>\n",
    "__Criação:__ 16/04/2024 <br>\n",
    "__Modificação:__ 16/04/2024\n",
    "\n",
    "__Descrição:__ Este tutorial mostra como fazer uma análise exploratória de dados usando ferramentas estatísticas. A minha recomendação é usar este material como base, mas não se esqueça de explorar diferentes métodos e estatísticas.\n",
    "\n",
    "__Referências:__ \n",
    "* https://rasterio.readthedocs.io/en/latest/topics/masking-by-shapefile.html"
   ]
  },
  {
   "cell_type": "markdown",
   "metadata": {},
   "source": [
    "## 1. Importando bibliotecas e dados"
   ]
  },
  {
   "cell_type": "code",
   "execution_count": 2,
   "metadata": {},
   "outputs": [],
   "source": [
    "from pathlib import Path # para manipulação de arquivos\n",
    "\n",
    "import numpy as np # para manipulação de arrays\n",
    "\n",
    "import pandas as pd # para manipulação de dataframes\n",
    "\n",
    "\n",
    "# Vamos nos basear nestas três bibliotecas para alguns gráficos\n",
    "import matplotlib.pyplot as plt # para plotar gráficos\n",
    "import seaborn as sns # para plotar gráficos\n",
    "import plotly.express as px # para plotar gráficos"
   ]
  },
  {
   "cell_type": "markdown",
   "metadata": {},
   "source": [
    "Vamos abrir o arquivo CSV que geramos do [Tutorial 4](https://github.com/paeslemesa/tutoriaisPython/blob/main/05_Transformar_Shapes_em_Amosrtas_ML.ipynb), onde são amostras das bandas RGB + NIR do Sentinel-2 de uma área da Amazônia"
   ]
  },
  {
   "cell_type": "code",
   "execution_count": 3,
   "metadata": {},
   "outputs": [],
   "source": [
    "diretorio = Path(\"D:/Pesquisa/Artigo_Mestrado/00_Dados\") # lembre-se de colocar \"barra (/)\" ao invés de \"contra-barra (\\)\"\n",
    "\n",
    "arquivo = Path(diretorio, \"amostras_aoi.csv\") # arquivo que vamos abrir, está em CSV"
   ]
  },
  {
   "cell_type": "code",
   "execution_count": 4,
   "metadata": {},
   "outputs": [
    {
     "data": {
      "text/html": [
       "<div>\n",
       "<style scoped>\n",
       "    .dataframe tbody tr th:only-of-type {\n",
       "        vertical-align: middle;\n",
       "    }\n",
       "\n",
       "    .dataframe tbody tr th {\n",
       "        vertical-align: top;\n",
       "    }\n",
       "\n",
       "    .dataframe thead th {\n",
       "        text-align: right;\n",
       "    }\n",
       "</style>\n",
       "<table border=\"1\" class=\"dataframe\">\n",
       "  <thead>\n",
       "    <tr style=\"text-align: right;\">\n",
       "      <th></th>\n",
       "      <th>classe</th>\n",
       "      <th>azul</th>\n",
       "      <th>verde</th>\n",
       "      <th>vermelho</th>\n",
       "      <th>nir</th>\n",
       "      <th>ndvi</th>\n",
       "    </tr>\n",
       "  </thead>\n",
       "  <tbody>\n",
       "    <tr>\n",
       "      <th>0</th>\n",
       "      <td>1</td>\n",
       "      <td>0.1323</td>\n",
       "      <td>0.1467</td>\n",
       "      <td>0.1256</td>\n",
       "      <td>0.4272</td>\n",
       "      <td>0.545586</td>\n",
       "    </tr>\n",
       "    <tr>\n",
       "      <th>1</th>\n",
       "      <td>1</td>\n",
       "      <td>0.1291</td>\n",
       "      <td>0.1460</td>\n",
       "      <td>0.1251</td>\n",
       "      <td>0.4213</td>\n",
       "      <td>0.542094</td>\n",
       "    </tr>\n",
       "    <tr>\n",
       "      <th>2</th>\n",
       "      <td>1</td>\n",
       "      <td>0.1262</td>\n",
       "      <td>0.1460</td>\n",
       "      <td>0.1221</td>\n",
       "      <td>0.3980</td>\n",
       "      <td>0.530475</td>\n",
       "    </tr>\n",
       "    <tr>\n",
       "      <th>3</th>\n",
       "      <td>1</td>\n",
       "      <td>0.1255</td>\n",
       "      <td>0.1438</td>\n",
       "      <td>0.1215</td>\n",
       "      <td>0.4216</td>\n",
       "      <td>0.552569</td>\n",
       "    </tr>\n",
       "    <tr>\n",
       "      <th>4</th>\n",
       "      <td>1</td>\n",
       "      <td>0.1281</td>\n",
       "      <td>0.1429</td>\n",
       "      <td>0.1236</td>\n",
       "      <td>0.3646</td>\n",
       "      <td>0.493650</td>\n",
       "    </tr>\n",
       "  </tbody>\n",
       "</table>\n",
       "</div>"
      ],
      "text/plain": [
       "   classe    azul   verde  vermelho     nir      ndvi\n",
       "0       1  0.1323  0.1467    0.1256  0.4272  0.545586\n",
       "1       1  0.1291  0.1460    0.1251  0.4213  0.542094\n",
       "2       1  0.1262  0.1460    0.1221  0.3980  0.530475\n",
       "3       1  0.1255  0.1438    0.1215  0.4216  0.552569\n",
       "4       1  0.1281  0.1429    0.1236  0.3646  0.493650"
      ]
     },
     "execution_count": 4,
     "metadata": {},
     "output_type": "execute_result"
    }
   ],
   "source": [
    "df = pd.read_csv(arquivo) # abrindo o arquivo CSV\n",
    "df.head()"
   ]
  },
  {
   "cell_type": "code",
   "execution_count": null,
   "metadata": {},
   "outputs": [],
   "source": []
  }
 ],
 "metadata": {
  "kernelspec": {
   "display_name": "yolo4D",
   "language": "python",
   "name": "python3"
  },
  "language_info": {
   "codemirror_mode": {
    "name": "ipython",
    "version": 3
   },
   "file_extension": ".py",
   "mimetype": "text/x-python",
   "name": "python",
   "nbconvert_exporter": "python",
   "pygments_lexer": "ipython3",
   "version": "3.10.13"
  }
 },
 "nbformat": 4,
 "nbformat_minor": 2
}
